{
 "cells": [
  {
   "cell_type": "code",
   "execution_count": 12,
   "metadata": {},
   "outputs": [
    {
     "name": "stdout",
     "output_type": "stream",
     "text": [
      "Enter the number: 0\n",
      "Zero\n"
     ]
    }
   ],
   "source": [
    "num =int(input('Enter the number: '))\n",
    "if num ==0:\n",
    "    print('Zero')\n",
    "elif num ==1:\n",
    "    print('One')\n",
    "else:\n",
    "        print('not valid')"
   ]
  },
  {
   "cell_type": "code",
   "execution_count": 19,
   "metadata": {},
   "outputs": [
    {
     "name": "stdout",
     "output_type": "stream",
     "text": [
      "Enter the number: 10\n",
      "Enter the number: 10\n",
      "Enter the number: 10\n",
      "all are equal\n"
     ]
    }
   ],
   "source": [
    "num1 =int(input('Enter the number: '))\n",
    "num2 =int(input('Enter the number: '))\n",
    "num3 =int(input('Enter the number: '))\n",
    "if num1>num2:\n",
    "    print('num1')\n",
    "elif num2>num3:\n",
    "    print('num2')\n",
    "elif num3>num1:\n",
    "    print('num3')\n",
    "else:\n",
    "    print('all are equal')"
   ]
  },
  {
   "cell_type": "code",
   "execution_count": 1,
   "metadata": {},
   "outputs": [
    {
     "name": "stdout",
     "output_type": "stream",
     "text": [
      "Enter the number: 10\n",
      "Enter the number: 90\n",
      "enter operation:\n",
      "            \n",
      " 1 for addition\n",
      "            \n",
      " 2 for subraction\n",
      "            \n",
      " 3 for multiplication\n",
      "            3\n",
      "900\n"
     ]
    }
   ],
   "source": [
    "num1 =int(input('Enter the number: '))\n",
    "num2 =int(input('Enter the number: '))\n",
    "op=int(input('''enter operation:\n",
    "            \\n 1 for addition\n",
    "            \\n 2 for subraction\n",
    "            \\n 3 for multiplication\n",
    "            '''))\n",
    "if op==1:\n",
    "    print(num1+num2)\n",
    "elif(op==2):\n",
    "    print(num1-num2)\n",
    "elif(op==3):\n",
    "    print(num1*num2)\n",
    "else:\n",
    "    print(\"no operation performed\")"
   ]
  },
  {
   "cell_type": "code",
   "execution_count": 22,
   "metadata": {},
   "outputs": [
    {
     "name": "stdout",
     "output_type": "stream",
     "text": [
      "Enter an year:1968\n",
      "divisible by 4\n",
      "not divisible by 100\n",
      "year is not a leap year\n"
     ]
    }
   ],
   "source": [
    "year =int(input('Enter an year:'))\n",
    "if year % 4 == 0:\n",
    "    print('divisible by 4')\n",
    "    if year %100 == 0:\n",
    "        print('divisible by 100')\n",
    "        if year %400 == 0:\n",
    "            print('divisible by 400')\n",
    "            print('Year is a leap year')\n",
    "        else:\n",
    "            print('not divisible by 400')\n",
    "            print('year is not a leap year')\n",
    "    else:\n",
    "        print('not divisible by 100')\n",
    "        print('year is not a leap year')\n",
    "else:\n",
    "        print('not divisible by 4')\n",
    "        print('year is not a leap year')"
   ]
  },
  {
   "cell_type": "code",
   "execution_count": 3,
   "metadata": {},
   "outputs": [
    {
     "name": "stdout",
     "output_type": "stream",
     "text": [
      "Enter the palindrome: 12321\n",
      "Palindrome\n"
     ]
    }
   ],
   "source": [
    "num =input('Enter the palindrome: ')\n",
    "print('Palindrome' if num == num[::-1] else 'Not Palindrome')\n"
   ]
  },
  {
   "cell_type": "code",
   "execution_count": 6,
   "metadata": {},
   "outputs": [
    {
     "name": "stdout",
     "output_type": "stream",
     "text": [
      "hello\n",
      "hello\n",
      "hello\n",
      "hello\n",
      "hello\n",
      "hello\n",
      "hello\n",
      "hello\n",
      "hello\n",
      "hello\n"
     ]
    }
   ],
   "source": [
    "for i in range(10):\n",
    "    print(\"hello\")"
   ]
  },
  {
   "cell_type": "code",
   "execution_count": 10,
   "metadata": {},
   "outputs": [
    {
     "name": "stdout",
     "output_type": "stream",
     "text": [
      "p\n",
      "yy\n",
      "ttt\n",
      "hhhh\n",
      "ooooo\n",
      "nnnnnn\n"
     ]
    }
   ],
   "source": [
    "my_str='python'\n",
    "for i in range(len(my_str)):\n",
    "    print(my_str[i]*(i+1))"
   ]
  },
  {
   "cell_type": "code",
   "execution_count": 12,
   "metadata": {},
   "outputs": [
    {
     "name": "stdout",
     "output_type": "stream",
     "text": [
      "p\n",
      "yy\n",
      "ttt\n",
      "hhhh\n",
      "ooooo\n",
      "nnnnnn\n"
     ]
    }
   ],
   "source": [
    "my_str='python'\n",
    "j=1\n",
    "for ele in my_str:\n",
    "    print(ele*j)\n",
    "    j+=1"
   ]
  },
  {
   "cell_type": "code",
   "execution_count": 13,
   "metadata": {},
   "outputs": [
    {
     "name": "stdout",
     "output_type": "stream",
     "text": [
      "80\n",
      "40\n",
      "60\n"
     ]
    }
   ],
   "source": [
    "s ={20,30,40}\n",
    "for ele in s:\n",
    "    print(ele*2)"
   ]
  },
  {
   "cell_type": "code",
   "execution_count": 1,
   "metadata": {},
   "outputs": [
    {
     "name": "stdout",
     "output_type": "stream",
     "text": [
      "p\n",
      "yy\n",
      "ttt\n",
      "hhhh\n",
      "ooooo\n",
      "nnnnnn\n"
     ]
    }
   ],
   "source": [
    "my_str='python'\n",
    "ind = 0\n",
    "while ind<len(my_str):\n",
    "    print(my_str[ind] * (ind+1))\n",
    "    ind+=1"
   ]
  },
  {
   "cell_type": "code",
   "execution_count": 7,
   "metadata": {},
   "outputs": [
    {
     "name": "stdout",
     "output_type": "stream",
     "text": [
      "0\n",
      "0\n",
      "1\n",
      "1\n",
      "2\n",
      "2\n",
      "3\n",
      "3\n"
     ]
    }
   ],
   "source": [
    "for i in range(5):\n",
    "    print(i)\n",
    "    'hii'\n",
    "    'hello'\n",
    "    'how are u?'\n",
    "    print(i)\n",
    "    if i==3:\n",
    "        break"
   ]
  },
  {
   "cell_type": "code",
   "execution_count": 15,
   "metadata": {},
   "outputs": [
    {
     "name": "stdout",
     "output_type": "stream",
     "text": [
      "['peter', 'piper', 'picked.']\n"
     ]
    }
   ],
   "source": [
    "str1= 'peter piper picked.'\n",
    "lst1=[]\n",
    "str2=''\n",
    "for i in range(len(str1)):\n",
    "    if str1[i] != ' ':\n",
    "        str2 += str1[i]\n",
    "    else:\n",
    "        lst1.append(str2)\n",
    "        str2=''\n",
    "lst1.append(str2)\n",
    "print(lst1)"
   ]
  }
 ],
 "metadata": {
  "kernelspec": {
   "display_name": "Python 3",
   "language": "python",
   "name": "python3"
  },
  "language_info": {
   "codemirror_mode": {
    "name": "ipython",
    "version": 3
   },
   "file_extension": ".py",
   "mimetype": "text/x-python",
   "name": "python",
   "nbconvert_exporter": "python",
   "pygments_lexer": "ipython3",
   "version": "3.8.3"
  }
 },
 "nbformat": 4,
 "nbformat_minor": 4
}
