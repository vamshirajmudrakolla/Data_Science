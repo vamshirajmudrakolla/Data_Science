{
 "cells": [
  {
   "cell_type": "code",
   "execution_count": 4,
   "metadata": {},
   "outputs": [
    {
     "name": "stdout",
     "output_type": "stream",
     "text": [
      "enter 1st20\n",
      "enter 2nd30\n",
      "20 30\n"
     ]
    }
   ],
   "source": [
    "def my_fun(num1,num2):\n",
    "    sum1=num1+num2\n",
    "    diff=num1-num2\n",
    "    return sum1,diff\n",
    "num1=int(input('enter 1st'))\n",
    "num2=int(input('enter 2nd'))\n",
    "my_fun(num1,num2)\n",
    "print(num1,num2)"
   ]
  },
  {
   "cell_type": "code",
   "execution_count": 7,
   "metadata": {},
   "outputs": [
    {
     "name": "stdout",
     "output_type": "stream",
     "text": [
      "100\n"
     ]
    }
   ],
   "source": [
    "def sum_t(lst):\n",
    "    total=0\n",
    "    for ele in lst:\n",
    "        total+=ele\n",
    "    return total\n",
    "t=sum_t([10,20,30,40])\n",
    "print(t)"
   ]
  },
  {
   "cell_type": "code",
   "execution_count": 22,
   "metadata": {},
   "outputs": [
    {
     "name": "stdout",
     "output_type": "stream",
     "text": [
      "enter the fah:100\n",
      "212.0\n"
     ]
    }
   ],
   "source": [
    "def Temp(Cel,Fah):\n",
    "    Div=9/5\n",
    "Div=9/5\n",
    "Cel=int(input(\"enter the fah:\"))\n",
    "Fah= ((Cel*Div)+32)\n",
    "print(Fah)"
   ]
  },
  {
   "cell_type": "code",
   "execution_count": 28,
   "metadata": {},
   "outputs": [
    {
     "name": "stdout",
     "output_type": "stream",
     "text": [
      "enter 1:2\n",
      "enter 2:6\n",
      "enter 3:1\n",
      "num2\n"
     ]
    }
   ],
   "source": [
    "num1=int(input('enter 1:'))\n",
    "num2=int(input('enter 2:'))\n",
    "num3=int(input('enter 3:'))\n",
    "\n",
    "if num1>num2:\n",
    "    print(\"num1\")\n",
    "elif num2>num3:\n",
    "    print(\"num2\")\n",
    "elif num3>num1:\n",
    "    print(\"num3 \")\n",
    "else:\n",
    "    print(\"equal\")"
   ]
  },
  {
   "cell_type": "code",
   "execution_count": 45,
   "metadata": {},
   "outputs": [
    {
     "name": "stdout",
     "output_type": "stream",
     "text": [
      "6\n"
     ]
    }
   ],
   "source": [
    "def sum(lst):\n",
    "    j=0\n",
    "    for ele in lst:\n",
    "        j+=ele\n",
    "    return j\n",
    "print(sum((1,2,3)))"
   ]
  },
  {
   "cell_type": "code",
   "execution_count": 48,
   "metadata": {},
   "outputs": [
    {
     "name": "stdout",
     "output_type": "stream",
     "text": [
      "48\n"
     ]
    }
   ],
   "source": [
    "def sum(lst):\n",
    "    j=1\n",
    "    for ele in lst:\n",
    "        j*=ele\n",
    "    return j\n",
    "print(sum((8,2,3)))"
   ]
  },
  {
   "cell_type": "code",
   "execution_count": 49,
   "metadata": {},
   "outputs": [
    {
     "name": "stdout",
     "output_type": "stream",
     "text": [
      "20 30 40 50\n",
      "140\n"
     ]
    }
   ],
   "source": [
    "def add(n1,n2,n3,n4):\n",
    "    print(n1,n2,n3,n4)\n",
    "    print(n1+n2+n3+n4)\n",
    "add(20,30,40,50)"
   ]
  },
  {
   "cell_type": "code",
   "execution_count": 50,
   "metadata": {},
   "outputs": [
    {
     "name": "stdout",
     "output_type": "stream",
     "text": [
      "20 30 0 0\n",
      "50\n"
     ]
    }
   ],
   "source": [
    "def add(n1,n2,n3=0,n4=0):\n",
    "    print(n1,n2,n3,n4)\n",
    "    print(n1+n2+n3+n4)\n",
    "add(20,30)"
   ]
  },
  {
   "cell_type": "code",
   "execution_count": 51,
   "metadata": {},
   "outputs": [
    {
     "name": "stdout",
     "output_type": "stream",
     "text": [
      "30 20 0 0\n",
      "50\n",
      "\n"
     ]
    }
   ],
   "source": [
    "def add(n1,n2,n3=0,n4=0):\n",
    "    print(n1,n2,n3,n4)\n",
    "    print(n1+n2+n3+n4)\n",
    "    print( )\n",
    "add(n2=20,n1=30)"
   ]
  },
  {
   "cell_type": "code",
   "execution_count": null,
   "metadata": {},
   "outputs": [],
   "source": []
  },
  {
   "cell_type": "code",
   "execution_count": null,
   "metadata": {},
   "outputs": [],
   "source": []
  },
  {
   "cell_type": "code",
   "execution_count": null,
   "metadata": {},
   "outputs": [],
   "source": []
  }
 ],
 "metadata": {
  "kernelspec": {
   "display_name": "Python 3",
   "language": "python",
   "name": "python3"
  },
  "language_info": {
   "codemirror_mode": {
    "name": "ipython",
    "version": 3
   },
   "file_extension": ".py",
   "mimetype": "text/x-python",
   "name": "python",
   "nbconvert_exporter": "python",
   "pygments_lexer": "ipython3",
   "version": "3.8.3"
  }
 },
 "nbformat": 4,
 "nbformat_minor": 4
}
